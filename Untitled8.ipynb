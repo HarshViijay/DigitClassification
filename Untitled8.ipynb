{
 "cells": [
  {
   "cell_type": "code",
   "execution_count": 2,
   "metadata": {},
   "outputs": [
    {
     "name": "stderr",
     "output_type": "stream",
     "text": [
      "/home/harsh/.local/lib/python3.6/site-packages/ipykernel_launcher.py:6: FutureWarning: Method .as_matrix will be removed in a future version. Use .values instead.\n",
      "  \n"
     ]
    },
    {
     "name": "stdout",
     "output_type": "stream",
     "text": [
      "[3]\n",
      "Accuracy= 83.62857142857143\n"
     ]
    },
    {
     "data": {
      "image/png": "[encoded data removed]",
      "text/plain": [
       "<Figure size 432x288 with 1 Axes>"
      ]
     },
     "metadata": {
      "needs_background": "light"
     },
     "output_type": "display_data"
    }
   ],
   "source": [
    "import numpy as np\n",
    "import matplotlib.pyplot as pt\n",
    "import pandas as pd\n",
    "from sklearn.tree import DecisionTreeClassifier\n",
    "\n",
    "data=pd.read_csv(\"train.csv\").as_matrix()\n",
    "clf=DecisionTreeClassifier()\n",
    "\n",
    "# training dataset\n",
    "xtrain=data[0:21000,1:]\n",
    "train_label=data[0:21000,0]\n",
    "\n",
    "clf.fit(xtrain,train_label)\n",
    "\n",
    "# testing data\n",
    "xtest=data[21000:,1:]\n",
    "actual_label=data[21000:,0]\n",
    "\n",
    "d=xtest[8]\n",
    "d.shape=(28,28)\n",
    "pt.imshow(255-d,cmap='gray')\n",
    "print(clf.predict( [xtest[8]] ))\n",
    "pt.show\n",
    "\n",
    "p=clf.predict(xtest)\n",
    "\n",
    "count=0\n",
    "for i in range(0,21000):\n",
    "    count+=1 if p[i]==actual_label[i] else 0\n",
    "print(\"Accuracy=\",(count/21000)*100)    \n",
    "\n",
    "\n"
   ]
  },
  {
   "cell_type": "code",
   "execution_count": null,
   "metadata": {},
   "outputs": [],
   "source": []
  }
 ],
 "metadata": {
  "kernelspec": {
   "display_name": "Python 3",
   "language": "python",
   "name": "python3"
  },
  "language_info": {
   "codemirror_mode": {
    "name": "ipython",
    "version": 3
   },
   "file_extension": ".py",
   "mimetype": "text/x-python",
   "name": "python",
   "nbconvert_exporter": "python",
   "pygments_lexer": "ipython3",
   "version": "3.6.8"
  }
 },
 "nbformat": 4,
 "nbformat_minor": 2
}
